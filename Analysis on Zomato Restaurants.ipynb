{
 "cells": [
  {
   "cell_type": "markdown",
   "metadata": {},
   "source": [
    "\n",
    "## Problem Statement:\n",
    "\n",
    "Restaurants from all over the world can be found here in Bengaluru. From the United States to Japan, Russia to Antarctica, you get all types of cuisines here. Delivery, Dine-out, Pubs, Bars, Drinks, Buffet, Desserts you name it and Bengaluru has it. Bengaluru is the best place for foodies. The number of restaurants is increasing day by day. Currently, it stands at approximately 12,000 restaurants. With such a high number of restaurants. This industry hasn't been saturated yet. And new restaurants are opening every day. However, it has become difficult for them to compete with already established restaurants. The key issues that continue to pose a challenge to them include high real estate costs, rising food costs, shortage of quality manpower, fragmented supply chain, and over-licensing. This Zomato data aims at analyzing the demography of the location. Most importantly it will help new restaurants in deciding their theme, menus, cuisine, cost, etc for a particular location. It also aims at finding similarities between neighborhoods of Bengaluru on the basis of food. The dataset also contains reviews for each of the restaurants which will help in finding the overall rating for the place.\n",
    "\n",
    "\n",
    "## Aim:\n",
    "\n",
    "The basic idea of analyzing the Zomato dataset is to get a fair idea about the factors affecting the establishment of different types of restaurants at different places in Bengaluru, the aggregate rating of each restaurant, Bengaluru being one such city has more than 12,000 restaurants with restaurants serving dishes from all over the world. With each day new restaurants open the industry hasn't been saturated yet and the demand is increasing day by day. In spite of increasing demand, it however has become difficult for new restaurants to compete with established restaurants. Most of them serve the same food. Bengaluru is the IT capital of India. Most of the people here are dependent mainly on the restaurant food as they don’t have time to cook for themselves.\n",
    "\n",
    "\n",
    "\n",
    "Use all the techniques which you are aware of and explore more, Try to find various factors that are hidden in the data.\n"
   ]
  },
  {
   "cell_type": "markdown",
   "metadata": {},
   "source": [
    "### DATA DICTIONARY:\n",
    "\n",
    "\n",
    "• **Restaurant Id:** Unique id of every restaurant across various cities of the world\n",
    "\n",
    "• **Restaurant Name:** Name of the restaurant\n",
    "\n",
    "• **Country Code:** Country in which restaurant is located\n",
    "\n",
    "• **City:** City in which the restaurant is located\n",
    "\n",
    "• **Address:** Address of the restaurant\n",
    "\n",
    "• **Locality:** Location in the city\n",
    "\n",
    "• **Locality Verbose:** Detailed description of the locality\n",
    "\n",
    "• **Longitude:** Longitude coordinate of the restaurant's location\n",
    "\n",
    "• **Latitude:** Latitude coordinate of the restaurant's location\n",
    "\n",
    "• **Cuisines:** Cuisines offered by the restaurant\n",
    "\n",
    "• **Average Cost for two:** Cost for two people in different currencies \n",
    "\n",
    "• **Currency:** Currency of the country\n",
    "\n",
    "• **Has Table booking:** yes/no\n",
    "\n",
    "• **Has Online delivery:** yes/ no\n",
    "\n",
    "• **Is delivering:** yes/ no\n",
    "\n",
    "• **Switch to order menu:** yes/no\n",
    "\n",
    "• **Price range:** range of price of food\n",
    "\n",
    "• **Aggregate Rating:** Average rating out of 5\n",
    "\n",
    "• **Rating color:** depending upon the average rating color\n",
    "\n",
    "• **Rating text:** text on the basis of rating of rating\n",
    "\n",
    "• **Votes:** Number of ratings cast by people\n"
   ]
  },
  {
   "cell_type": "markdown",
   "metadata": {},
   "source": [
    "### 1.Import libraries that you required and Load the data set."
   ]
  },
  {
   "cell_type": "code",
   "execution_count": 1,
   "metadata": {
    "colab": {
     "base_uri": "https://localhost:8080/",
     "height": 17
    },
    "id": "hBQoXIHPcBuE",
    "outputId": "ddce9f8c-60c1-4221-9abe-47a7a8527cd2"
   },
   "outputs": [],
   "source": [
    "import pandas as pd \n",
    "import numpy as np\n",
    "import matplotlib.pyplot as plt\n",
    "import seaborn as sns"
   ]
  },
  {
   "cell_type": "markdown",
   "metadata": {},
   "source": [
    "### 2. Check the number of rows and columns in the dataset"
   ]
  },
  {
   "cell_type": "code",
   "execution_count": 2,
   "metadata": {},
   "outputs": [
    {
     "name": "stdout",
     "output_type": "stream",
     "text": [
      "The dataset contains 10000 rows and 18 columns.\n"
     ]
    }
   ],
   "source": [
    "# Load the dataset\n",
    "df = pd.read_csv('zomato.csv')\n",
    "\n",
    "# Check the number of rows and columns\n",
    "rows, columns = df.shape\n",
    "print(f'The dataset contains {rows} rows and {columns} columns.')"
   ]
  },
  {
   "cell_type": "code",
   "execution_count": 4,
   "metadata": {},
   "outputs": [
    {
     "data": {
      "text/html": [
       "<div>\n",
       "<style scoped>\n",
       "    .dataframe tbody tr th:only-of-type {\n",
       "        vertical-align: middle;\n",
       "    }\n",
       "\n",
       "    .dataframe tbody tr th {\n",
       "        vertical-align: top;\n",
       "    }\n",
       "\n",
       "    .dataframe thead th {\n",
       "        text-align: right;\n",
       "    }\n",
       "</style>\n",
       "<table border=\"1\" class=\"dataframe\">\n",
       "  <thead>\n",
       "    <tr style=\"text-align: right;\">\n",
       "      <th></th>\n",
       "      <th>Unnamed: 0</th>\n",
       "      <th>url</th>\n",
       "      <th>address</th>\n",
       "      <th>name</th>\n",
       "      <th>online_order</th>\n",
       "      <th>book_table</th>\n",
       "      <th>rate</th>\n",
       "      <th>votes</th>\n",
       "      <th>phone</th>\n",
       "      <th>location</th>\n",
       "      <th>rest_type</th>\n",
       "      <th>dish_liked</th>\n",
       "      <th>cuisines</th>\n",
       "      <th>approx_cost(for two people)</th>\n",
       "      <th>reviews_list</th>\n",
       "      <th>menu_item</th>\n",
       "      <th>listed_in(type)</th>\n",
       "      <th>listed_in(city)</th>\n",
       "    </tr>\n",
       "  </thead>\n",
       "  <tbody>\n",
       "    <tr>\n",
       "      <th>0</th>\n",
       "      <td>14221</td>\n",
       "      <td>https://www.zomato.com/bangalore/shree-ranga-v...</td>\n",
       "      <td>366, Hosur Main Road, Attibele, Anekal Taluk, ...</td>\n",
       "      <td>Shree Ranga Vilas</td>\n",
       "      <td>No</td>\n",
       "      <td>No</td>\n",
       "      <td>3.2/5</td>\n",
       "      <td>7</td>\n",
       "      <td>080 29765044</td>\n",
       "      <td>Electronic City</td>\n",
       "      <td>Casual Dining</td>\n",
       "      <td>NaN</td>\n",
       "      <td>North Indian, South Indian, Chinese, Juices</td>\n",
       "      <td>500</td>\n",
       "      <td>[('Rated 3.0', 'RATED\\n  Typical South Indian ...</td>\n",
       "      <td>[]</td>\n",
       "      <td>Dine-out</td>\n",
       "      <td>Electronic City</td>\n",
       "    </tr>\n",
       "    <tr>\n",
       "      <th>1</th>\n",
       "      <td>43422</td>\n",
       "      <td>https://www.zomato.com/bangalore/sphyre-gatewa...</td>\n",
       "      <td>Gateway Hotel, 66, Residency Road, Bangalore</td>\n",
       "      <td>Sphyre - Gateway Hotel</td>\n",
       "      <td>No</td>\n",
       "      <td>No</td>\n",
       "      <td>3.6 /5</td>\n",
       "      <td>45</td>\n",
       "      <td>+91 9886643495\\n+91 9898780004</td>\n",
       "      <td>Residency Road</td>\n",
       "      <td>Lounge</td>\n",
       "      <td>NaN</td>\n",
       "      <td>Finger Food</td>\n",
       "      <td>1,700</td>\n",
       "      <td>[('Rated 1.0', 'RATED\\n  Expected a good night...</td>\n",
       "      <td>[]</td>\n",
       "      <td>Dine-out</td>\n",
       "      <td>MG Road</td>\n",
       "    </tr>\n",
       "    <tr>\n",
       "      <th>2</th>\n",
       "      <td>16032</td>\n",
       "      <td>https://www.zomato.com/bangalore/popular-baker...</td>\n",
       "      <td>19, BDA Complex, HSR, Bangalore</td>\n",
       "      <td>Popular Bakery</td>\n",
       "      <td>No</td>\n",
       "      <td>No</td>\n",
       "      <td>3.7/5</td>\n",
       "      <td>36</td>\n",
       "      <td>+91 8105834605\\r\\n080 25722488</td>\n",
       "      <td>HSR</td>\n",
       "      <td>Dessert Parlor, Bakery</td>\n",
       "      <td>NaN</td>\n",
       "      <td>Desserts, Bakery</td>\n",
       "      <td>600</td>\n",
       "      <td>[('Rated 5.0', \"RATED\\n  This outlet is in HSR...</td>\n",
       "      <td>[]</td>\n",
       "      <td>Delivery</td>\n",
       "      <td>HSR</td>\n",
       "    </tr>\n",
       "    <tr>\n",
       "      <th>3</th>\n",
       "      <td>51635</td>\n",
       "      <td>https://www.zomato.com/bangalore/thai-chinese-...</td>\n",
       "      <td>7, Anurhh Arcade, Hoodi Road, Kodigehalli Road...</td>\n",
       "      <td>Thai &amp; Chinese Fast Food</td>\n",
       "      <td>No</td>\n",
       "      <td>No</td>\n",
       "      <td>3.4 /5</td>\n",
       "      <td>7</td>\n",
       "      <td>+91 9206260085\\n+91 7619416923</td>\n",
       "      <td>KR Puram</td>\n",
       "      <td>Quick Bites</td>\n",
       "      <td>NaN</td>\n",
       "      <td>Chinese, Thai</td>\n",
       "      <td>400</td>\n",
       "      <td>[('Rated 5.0', 'RATED\\n  Its Looking delicious...</td>\n",
       "      <td>[]</td>\n",
       "      <td>Dine-out</td>\n",
       "      <td>Whitefield</td>\n",
       "    </tr>\n",
       "    <tr>\n",
       "      <th>4</th>\n",
       "      <td>23424</td>\n",
       "      <td>https://www.zomato.com/bangalore/grill-on-whee...</td>\n",
       "      <td>Kothanuru Main Road, Puttenahalli Road, Natara...</td>\n",
       "      <td>Grill On Wheels</td>\n",
       "      <td>No</td>\n",
       "      <td>No</td>\n",
       "      <td>NEW</td>\n",
       "      <td>0</td>\n",
       "      <td>+91 9901979901</td>\n",
       "      <td>JP Nagar</td>\n",
       "      <td>Quick Bites</td>\n",
       "      <td>NaN</td>\n",
       "      <td>North Indian, Chinese, BBQ, Arabian, Fast Food</td>\n",
       "      <td>400</td>\n",
       "      <td>[]</td>\n",
       "      <td>[]</td>\n",
       "      <td>Dine-out</td>\n",
       "      <td>JP Nagar</td>\n",
       "    </tr>\n",
       "  </tbody>\n",
       "</table>\n",
       "</div>"
      ],
      "text/plain": [
       "   Unnamed: 0                                                url  \\\n",
       "0       14221  https://www.zomato.com/bangalore/shree-ranga-v...   \n",
       "1       43422  https://www.zomato.com/bangalore/sphyre-gatewa...   \n",
       "2       16032  https://www.zomato.com/bangalore/popular-baker...   \n",
       "3       51635  https://www.zomato.com/bangalore/thai-chinese-...   \n",
       "4       23424  https://www.zomato.com/bangalore/grill-on-whee...   \n",
       "\n",
       "                                             address  \\\n",
       "0  366, Hosur Main Road, Attibele, Anekal Taluk, ...   \n",
       "1       Gateway Hotel, 66, Residency Road, Bangalore   \n",
       "2                    19, BDA Complex, HSR, Bangalore   \n",
       "3  7, Anurhh Arcade, Hoodi Road, Kodigehalli Road...   \n",
       "4  Kothanuru Main Road, Puttenahalli Road, Natara...   \n",
       "\n",
       "                       name online_order book_table    rate  votes  \\\n",
       "0         Shree Ranga Vilas           No         No   3.2/5      7   \n",
       "1    Sphyre - Gateway Hotel           No         No  3.6 /5     45   \n",
       "2            Popular Bakery           No         No   3.7/5     36   \n",
       "3  Thai & Chinese Fast Food           No         No  3.4 /5      7   \n",
       "4           Grill On Wheels           No         No     NEW      0   \n",
       "\n",
       "                            phone         location               rest_type  \\\n",
       "0                    080 29765044  Electronic City           Casual Dining   \n",
       "1  +91 9886643495\\n+91 9898780004   Residency Road                  Lounge   \n",
       "2  +91 8105834605\\r\\n080 25722488              HSR  Dessert Parlor, Bakery   \n",
       "3  +91 9206260085\\n+91 7619416923         KR Puram             Quick Bites   \n",
       "4                  +91 9901979901         JP Nagar             Quick Bites   \n",
       "\n",
       "  dish_liked                                        cuisines  \\\n",
       "0        NaN     North Indian, South Indian, Chinese, Juices   \n",
       "1        NaN                                     Finger Food   \n",
       "2        NaN                                Desserts, Bakery   \n",
       "3        NaN                                   Chinese, Thai   \n",
       "4        NaN  North Indian, Chinese, BBQ, Arabian, Fast Food   \n",
       "\n",
       "  approx_cost(for two people)  \\\n",
       "0                         500   \n",
       "1                       1,700   \n",
       "2                         600   \n",
       "3                         400   \n",
       "4                         400   \n",
       "\n",
       "                                        reviews_list menu_item  \\\n",
       "0  [('Rated 3.0', 'RATED\\n  Typical South Indian ...        []   \n",
       "1  [('Rated 1.0', 'RATED\\n  Expected a good night...        []   \n",
       "2  [('Rated 5.0', \"RATED\\n  This outlet is in HSR...        []   \n",
       "3  [('Rated 5.0', 'RATED\\n  Its Looking delicious...        []   \n",
       "4                                                 []        []   \n",
       "\n",
       "  listed_in(type)  listed_in(city)  \n",
       "0        Dine-out  Electronic City  \n",
       "1        Dine-out          MG Road  \n",
       "2        Delivery              HSR  \n",
       "3        Dine-out       Whitefield  \n",
       "4        Dine-out         JP Nagar  "
      ]
     },
     "execution_count": 4,
     "metadata": {},
     "output_type": "execute_result"
    }
   ],
   "source": [
    "df.head()"
   ]
  },
  {
   "cell_type": "markdown",
   "metadata": {},
   "source": [
    "### 3. Check the info of the given dataset"
   ]
  },
  {
   "cell_type": "code",
   "execution_count": 3,
   "metadata": {},
   "outputs": [
    {
     "name": "stdout",
     "output_type": "stream",
     "text": [
      "<class 'pandas.core.frame.DataFrame'>\n",
      "RangeIndex: 10000 entries, 0 to 9999\n",
      "Data columns (total 18 columns):\n",
      " #   Column                       Non-Null Count  Dtype \n",
      "---  ------                       --------------  ----- \n",
      " 0   Unnamed: 0                   10000 non-null  int64 \n",
      " 1   url                          10000 non-null  object\n",
      " 2   address                      10000 non-null  object\n",
      " 3   name                         10000 non-null  object\n",
      " 4   online_order                 10000 non-null  object\n",
      " 5   book_table                   10000 non-null  object\n",
      " 6   rate                         8528 non-null   object\n",
      " 7   votes                        10000 non-null  int64 \n",
      " 8   phone                        9764 non-null   object\n",
      " 9   location                     9997 non-null   object\n",
      " 10  rest_type                    9953 non-null   object\n",
      " 11  dish_liked                   4642 non-null   object\n",
      " 12  cuisines                     9995 non-null   object\n",
      " 13  approx_cost(for two people)  9941 non-null   object\n",
      " 14  reviews_list                 10000 non-null  object\n",
      " 15  menu_item                    10000 non-null  object\n",
      " 16  listed_in(type)              10000 non-null  object\n",
      " 17  listed_in(city)              10000 non-null  object\n",
      "dtypes: int64(2), object(16)\n",
      "memory usage: 1.4+ MB\n"
     ]
    }
   ],
   "source": [
    "df.info()"
   ]
  },
  {
   "cell_type": "markdown",
   "metadata": {
    "id": "zf0Yzl8g7h22"
   },
   "source": [
    "### 4.Which are the top 10 restaurant chains in Bangaluru?"
   ]
  },
  {
   "cell_type": "code",
   "execution_count": 5,
   "metadata": {},
   "outputs": [
    {
     "name": "stdout",
     "output_type": "stream",
     "text": [
      "name\n",
      "Cafe Coffee Day              18\n",
      "Keventers                    17\n",
      "Onesta                       17\n",
      "McDonald's                   16\n",
      "SGS Non Veg - Gundu Pulav    16\n",
      "The Chocolate Heaven         16\n",
      "Baskin Robbins               16\n",
      "Mad Over Donuts              15\n",
      "Tata Cha                     15\n",
      "Petoo                        15\n",
      "Name: count, dtype: int64\n"
     ]
    }
   ],
   "source": [
    "# Group by restaurant name and count the occurrences\n",
    "top_restaurant_chains = df['name'].value_counts().head(10)\n",
    "\n",
    "# Display the top 10 restaurant chains\n",
    "print(top_restaurant_chains)"
   ]
  },
  {
   "cell_type": "markdown",
   "metadata": {
    "id": "A2g3dj_Q9Ls_"
   },
   "source": [
    "### 5.How many of the restuarants do not accept online orders?\n"
   ]
  },
  {
   "cell_type": "code",
   "execution_count": 6,
   "metadata": {},
   "outputs": [
    {
     "name": "stdout",
     "output_type": "stream",
     "text": [
      "The number of restaurants that do not accept online orders is 4057.\n"
     ]
    }
   ],
   "source": [
    "# Count the number of restaurants that do not accept online orders\n",
    "no_online_orders = df[df['online_order'] == 'No'].shape[0]\n",
    "\n",
    "print(f'The number of restaurants that do not accept online orders is {no_online_orders}.')"
   ]
  },
  {
   "cell_type": "markdown",
   "metadata": {
    "id": "sOwbyVN_FSGP"
   },
   "source": [
    "### 6. Online and Offline orders restaurants percentage?"
   ]
  },
  {
   "cell_type": "code",
   "execution_count": 7,
   "metadata": {},
   "outputs": [
    {
     "name": "stdout",
     "output_type": "stream",
     "text": [
      "online_order\n",
      "Yes    59.43\n",
      "No     40.57\n",
      "Name: proportion, dtype: float64\n"
     ]
    }
   ],
   "source": [
    "# Calculate the percentage of restaurants that accept online orders\n",
    "online_orders_percentage = df['online_order'].value_counts(normalize=True) * 100\n",
    "\n",
    "# Display the percentages\n",
    "print(online_orders_percentage)"
   ]
  },
  {
   "cell_type": "markdown",
   "metadata": {
    "id": "Ru8ptuekH0dS"
   },
   "source": [
    "### 7. What is the ratio b/w restaurants that provide and do not provide table booking."
   ]
  },
  {
   "cell_type": "code",
   "execution_count": 8,
   "metadata": {},
   "outputs": [
    {
     "name": "stdout",
     "output_type": "stream",
     "text": [
      "The ratio between restaurants that provide and do not provide table booking is 0.14.\n"
     ]
    }
   ],
   "source": [
    "# Calculate the number of restaurants that provide and do not provide table booking\n",
    "table_booking_counts = df['book_table'].value_counts()\n",
    "\n",
    "# Calculate the ratio\n",
    "ratio_table_booking = table_booking_counts['Yes'] / table_booking_counts['No']\n",
    "\n",
    "print(f'The ratio between restaurants that provide and do not provide table booking is {ratio_table_booking:.2f}.')"
   ]
  },
  {
   "cell_type": "markdown",
   "metadata": {
    "id": "bKnAF9vS12Pz"
   },
   "source": [
    "### 8. Check for missing values in rating column. Drop the missing value from the column and convert the column to numeric type. e.g \"3.5/5\" convert it to 3.5."
   ]
  },
  {
   "cell_type": "code",
   "execution_count": 33,
   "metadata": {},
   "outputs": [
    {
     "name": "stdout",
     "output_type": "stream",
     "text": [
      "  rating  numeric_rating\n",
      "0  3.5/5             3.5\n",
      "1  4.0/5             4.0\n",
      "2  2.8/5             2.8\n"
     ]
    }
   ],
   "source": [
    "import pandas as pd\n",
    "\n",
    "data = {'rating': ['3.5/5', '4.0/5', '2.8/5']}\n",
    "df = pd.DataFrame(data)\n",
    "\n",
    "df['numeric_rating'] = df['rating'].map(lambda x: float(x.split('/')[0]))\n",
    "print(df)\n"
   ]
  },
  {
   "cell_type": "markdown",
   "metadata": {},
   "source": [
    "### 9. Convert the approx_cost(for two people) in numeric type after removing the \",\""
   ]
  },
  {
   "cell_type": "code",
   "execution_count": 11,
   "metadata": {},
   "outputs": [
    {
     "name": "stdout",
     "output_type": "stream",
     "text": [
      "0     500.0\n",
      "1    1700.0\n",
      "2     600.0\n",
      "3     400.0\n",
      "5     500.0\n",
      "Name: approx_cost(for two people), dtype: float64\n"
     ]
    }
   ],
   "source": [
    "# Remove commas and convert the column to numeric type\n",
    "df['approx_cost(for two people)'] = df['approx_cost(for two people)'].str.replace(',', '').astype(float)\n",
    "\n",
    "# Verify the conversion\n",
    "print(df['approx_cost(for two people)'].head())"
   ]
  },
  {
   "cell_type": "markdown",
   "metadata": {},
   "source": [
    "### 10. Find the maximum, minimum and average \"approx_cost(for two people)\" in each  \"listed_in(city)\" for each \"listed_in(type)\"\n"
   ]
  },
  {
   "cell_type": "code",
   "execution_count": 12,
   "metadata": {},
   "outputs": [
    {
     "name": "stdout",
     "output_type": "stream",
     "text": [
      "    listed_in(city)     listed_in(type)     max     min         mean\n",
      "0               BTM              Buffet  1600.0   750.0  1264.285714\n",
      "1               BTM               Cafes   900.0   300.0   607.692308\n",
      "2               BTM            Delivery  1600.0   100.0   463.764706\n",
      "3               BTM            Desserts  1200.0   100.0   413.793103\n",
      "4               BTM            Dine-out  1500.0    70.0   513.192771\n",
      "..              ...                 ...     ...     ...          ...\n",
      "185      Whitefield            Delivery  2000.0   150.0   554.237288\n",
      "186      Whitefield            Desserts   900.0   150.0   435.714286\n",
      "187      Whitefield            Dine-out  3000.0   200.0   729.577465\n",
      "188      Whitefield  Drinks & nightlife  2400.0  1200.0  1833.333333\n",
      "189      Whitefield       Pubs and bars  1500.0   800.0  1312.500000\n",
      "\n",
      "[190 rows x 5 columns]\n"
     ]
    }
   ],
   "source": [
    "# Group by 'listed_in(city)' and 'listed_in(type)' and calculate the max, min, and average 'approx_cost(for two people)'\n",
    "cost_stats = df.groupby(['listed_in(city)', 'listed_in(type)'])['approx_cost(for two people)'].agg(['max', 'min', 'mean']).reset_index()\n",
    "\n",
    "# Display the result\n",
    "print(cost_stats)"
   ]
  },
  {
   "cell_type": "markdown",
   "metadata": {
    "id": "4mIYtenI5t1t"
   },
   "source": [
    "### 11. Which are the most common restaurant type in Banglore (top 15)?"
   ]
  },
  {
   "cell_type": "code",
   "execution_count": 13,
   "metadata": {},
   "outputs": [
    {
     "name": "stdout",
     "output_type": "stream",
     "text": [
      "rest_type\n",
      "Quick Bites            2691\n",
      "Casual Dining          1884\n",
      "Cafe                    643\n",
      "Dessert Parlor          370\n",
      "Delivery                330\n",
      "Takeaway, Delivery      290\n",
      "Casual Dining, Bar      196\n",
      "Bakery                  149\n",
      "Bar                     124\n",
      "Beverage Shop           107\n",
      "Food Court               99\n",
      "Bar, Casual Dining       87\n",
      "Casual Dining, Cafe      74\n",
      "Lounge                   70\n",
      "Pub                      66\n",
      "Name: count, dtype: int64\n"
     ]
    }
   ],
   "source": [
    "# Get the top 15 most common restaurant types\n",
    "top_restaurant_types = df['rest_type'].value_counts().head(15)\n",
    "\n",
    "# Display the top 15 restaurant types\n",
    "print(top_restaurant_types)"
   ]
  },
  {
   "cell_type": "markdown",
   "metadata": {
    "id": "7JbOUDa8IO-W"
   },
   "source": [
    "### 12. Finding Best budget Restaurants in any given location. Create a function return_budget_resturant, the arguments to this function will be location and rest_type.The function should return a budget resturants in the given loaction. The price of a good budget resturant should be less than 400 and rating should be more than 4."
   ]
  },
  {
   "cell_type": "code",
   "execution_count": 15,
   "metadata": {},
   "outputs": [
    {
     "name": "stdout",
     "output_type": "stream",
     "text": [
      "['Asha Tiffins', 'The Mylapore Cafe', 'The Mylapore Cafe', 'The Mylapore Cafe', 'The Mylapore Cafe', 'Asha Tiffins', 'Asha Tiffins', 'The Mylapore Cafe', 'Asha Tiffins', 'Asha Tiffins']\n"
     ]
    }
   ],
   "source": [
    "def return_budget_resturant(location, rest_type):\n",
    "    # Filter the dataframe based on location, rest_type, price, and rating\n",
    "    budget_restaurants = df[(df['location'] == location) & \n",
    "                            (df['rest_type'] == rest_type) & \n",
    "                            (df['approx_cost(for two people)'] < 400) & \n",
    "                            (df['rate'] > 4)]\n",
    "    \n",
    "    # Get the names of the budget restaurants\n",
    "    restaurant_names = budget_restaurants['name'].tolist()\n",
    "    \n",
    "    return restaurant_names\n",
    "\n",
    "# Example usage\n",
    "print(return_budget_resturant('HSR', 'Quick Bites'))"
   ]
  },
  {
   "cell_type": "raw",
   "metadata": {},
   "source": [
    "input - return_budget_resturant('HSR',\"Quick Bites\")\n",
    "output - ['Asha Tiffins', 'Hotel Salam', 'The Mylapore Cafe']"
   ]
  },
  {
   "cell_type": "markdown",
   "metadata": {
    "id": "PKK0q6kkJZKM"
   },
   "source": [
    "### 13.Which are the most common cuisines in each locations."
   ]
  },
  {
   "cell_type": "code",
   "execution_count": 16,
   "metadata": {},
   "outputs": [
    {
     "name": "stdout",
     "output_type": "stream",
     "text": [
      "               location                                           cuisines  \\\n",
      "152                 BTM                              North Indian, Chinese   \n",
      "238        Banashankari                             Cafe, Mexican, Italian   \n",
      "322           Banaswadi                              North Indian, Chinese   \n",
      "410   Bannerghatta Road                              North Indian, Chinese   \n",
      "494        Basavanagudi                                       South Indian   \n",
      "...                 ...                                                ...   \n",
      "3483     West Bangalore  Healthy Food, Chinese, Biryani, North Indian, ...   \n",
      "3577         Whitefield                                       North Indian   \n",
      "3632      Wilson Garden                                       North Indian   \n",
      "3638          Yelahanka                              South Indian, Biryani   \n",
      "3656        Yeshwantpur                South Indian, North Indian, Chinese   \n",
      "\n",
      "      count  \n",
      "152      63  \n",
      "238      11  \n",
      "322       6  \n",
      "410      24  \n",
      "494       9  \n",
      "...     ...  \n",
      "3483      1  \n",
      "3577     29  \n",
      "3632      8  \n",
      "3638      1  \n",
      "3656      3  \n",
      "\n",
      "[87 rows x 3 columns]\n"
     ]
    }
   ],
   "source": [
    "# Group by location and cuisines and count the occurrences\n",
    "cuisine_counts = df.groupby(['location', 'cuisines']).size().reset_index(name='count')\n",
    "\n",
    "# Find the most common cuisine for each location\n",
    "most_common_cuisines = cuisine_counts.loc[cuisine_counts.groupby('location')['count'].idxmax()]\n",
    "\n",
    "# Display the result\n",
    "print(most_common_cuisines)"
   ]
  },
  {
   "cell_type": "markdown",
   "metadata": {
    "id": "R8Ti0rMCKtSk"
   },
   "source": [
    "### 14. Which is  the most popular cuisine of Bangalore?"
   ]
  },
  {
   "cell_type": "code",
   "execution_count": 32,
   "metadata": {},
   "outputs": [
    {
     "name": "stdout",
     "output_type": "stream",
     "text": [
      "0    3.2\n",
      "1    3.6\n",
      "2    3.7\n",
      "3    3.4\n",
      "5    4.2\n",
      "Name: rate, dtype: float64\n"
     ]
    }
   ],
   "source": [
    "# Remove non-numeric values and convert the rating column to numeric type\n",
    "df['rate'] = df['rate'].apply(lambda x: x.split('/')[0].strip() if isinstance(x, str) and '/' in x else x)\n",
    "df['rate'] = pd.to_numeric(df['rate'], errors='coerce')\n",
    "\n",
    "# Verify the conversion\n",
    "print(df['rate'].head())"
   ]
  },
  {
   "cell_type": "code",
   "execution_count": 17,
   "metadata": {},
   "outputs": [
    {
     "name": "stdout",
     "output_type": "stream",
     "text": [
      "The most popular cuisine in Bangalore is North Indian.\n"
     ]
    }
   ],
   "source": [
    "# Find the most popular cuisine in Bangalore\n",
    "most_popular_cuisine = df['cuisines'].value_counts().idxmax()\n",
    "\n",
    "print(f'The most popular cuisine in Bangalore is {most_popular_cuisine}.')"
   ]
  }
 ],
 "metadata": {
  "colab": {
   "collapsed_sections": [],
   "name": "Zomato_EDA_sentimental_analysis.ipynb",
   "provenance": []
  },
  "kernelspec": {
   "display_name": "base",
   "language": "python",
   "name": "python3"
  },
  "language_info": {
   "codemirror_mode": {
    "name": "ipython",
    "version": 3
   },
   "file_extension": ".py",
   "mimetype": "text/x-python",
   "name": "python",
   "nbconvert_exporter": "python",
   "pygments_lexer": "ipython3",
   "version": "3.10.14"
  }
 },
 "nbformat": 4,
 "nbformat_minor": 1
}
